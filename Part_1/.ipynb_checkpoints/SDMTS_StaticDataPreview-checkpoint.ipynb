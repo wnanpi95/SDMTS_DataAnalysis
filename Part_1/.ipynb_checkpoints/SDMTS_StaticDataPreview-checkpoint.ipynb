{
 "cells": [
  {
   "cell_type": "code",
   "execution_count": 1,
   "metadata": {
    "collapsed": false
   },
   "outputs": [
    {
     "name": "stderr",
     "output_type": "stream",
     "text": [
      "\n",
      "Attaching package: ‘dplyr’\n",
      "\n",
      "The following objects are masked from ‘package:stats’:\n",
      "\n",
      "    filter, lag\n",
      "\n",
      "The following objects are masked from ‘package:base’:\n",
      "\n",
      "    intersect, setdiff, setequal, union\n",
      "\n",
      "Google Maps API Terms of Service: http://developers.google.com/maps/terms.\n",
      "Please cite ggmap if you use it: see citation(\"ggmap\") for details.\n",
      "\n",
      "Attaching package: ‘lubridate’\n",
      "\n",
      "The following object is masked from ‘package:base’:\n",
      "\n",
      "    date\n",
      "\n"
     ]
    }
   ],
   "source": [
    "library(ggplot2)\n",
    "library(dplyr)\n",
    "library(ggmap)\n",
    "library(maps)\n",
    "library(mapdata)\n",
    "library(lubridate)\n",
    "options(jupyter.plot_mimetypes = 'image/png')"
   ]
  },
  {
   "cell_type": "code",
   "execution_count": 2,
   "metadata": {
    "collapsed": false
   },
   "outputs": [
    {
     "name": "stderr",
     "output_type": "stream",
     "text": [
      "Warning message in read.table(file = file, header = header, sep = sep, quote = quote, :\n",
      "“incomplete final line found by readTableHeader on '../google_transit/agency.txt'”Warning message in read.table(file = file, header = header, sep = sep, quote = quote, :\n",
      "“incomplete final line found by readTableHeader on '../google_transit/calendar.txt'”Warning message in read.table(file = file, header = header, sep = sep, quote = quote, :\n",
      "“incomplete final line found by readTableHeader on '../google_transit/feed_info.txt'”Warning message in read.table(file = file, header = header, sep = sep, quote = quote, :\n",
      "“incomplete final line found by readTableHeader on '../google_transit/frequencies.txt'”"
     ]
    }
   ],
   "source": [
    "path <- \"../google_transit\"\n",
    "extension <- \".txt\"\n",
    "files <- c(\"agency\", \"calendar_dates\", \"calendar\", \"fare_attributes\", \"fare_rules\",\n",
    "           \"feed_info\", \"frequencies\", \"place_patterns\", \"places\", \"routes\", \"shapes\", \n",
    "           \"stop_times\", \"stops\", \"transfers\", \"trips\")\n",
    "\n",
    "GTFSlist <- list()\n",
    "\n",
    "for (i in 1:length(files)) {\n",
    "  df <- read.csv(file=file.path(path, paste(files[i], extension, sep=\"\")), header=T)\n",
    "  GTFSlist[[i]] <- df\n",
    "}"
   ]
  },
  {
   "cell_type": "markdown",
   "metadata": {},
   "source": [
    "# Static Data\n",
    "## Quick Reference \n",
    "### GTFSlist indices\n",
    "1.   Agency \n",
    "2.   Calendar Dates\n",
    "3.   Calendar\n",
    "4.   Fare Attributes\n",
    "5.   Fare Rules\n",
    "6.   Feed Info\n",
    "7.   Frequencies\n",
    "8.   Place Patterns\n",
    "9.   Places\n",
    "10.   Routes\n",
    "11.   Shapes\n",
    "12.  Stop Times\n",
    "13.  Stops\n",
    "14.  Transfers\n",
    "15.  Trips"
   ]
  },
  {
   "cell_type": "code",
   "execution_count": 3,
   "metadata": {
    "collapsed": false
   },
   "outputs": [],
   "source": [
    "#agency <-          GTFSlist[[1]]\n",
    "#calendar_dates <-  GTFSlist[[2]]\n",
    "#calendar <-        GTFSlist[[3]]\n",
    "#fare_attributes <- GTFSlist[[4]]\n",
    "#fare_rules <-      GTFSlist[[5]]\n",
    "#feed_info <-       GTFSlist[[6]]\n",
    "#frequencies <-     GTFSlist[[7]]\n",
    "place_patterns <-  GTFSlist[[8]]\n",
    "places <-          GTFSlist[[9]]\n",
    "routes <-          GTFSlist[[10]]\n",
    "shapes <-          GTFSlist[[11]]\n",
    "stop_times <-      GTFSlist[[12]]\n",
    "stops <-           GTFSlist[[13]]\n",
    "#transfers <-       GTFSlist[[14]]\n",
    "trips <-           GTFSlist[[15]]"
   ]
  },
  {
   "cell_type": "code",
   "execution_count": 4,
   "metadata": {
    "collapsed": false
   },
   "outputs": [
    {
     "data": {
      "text/html": [
       "<table>\n",
       "<thead><tr><th scope=col>route_id</th><th scope=col>pattern_id</th><th scope=col>pattern_direction</th><th scope=col>place_id</th><th scope=col>place_rank</th></tr></thead>\n",
       "<tbody>\n",
       "\t<tr><td>1     </td><td>1-W   </td><td>West  </td><td>grotro</td><td>0     </td></tr>\n",
       "\t<tr><td>1     </td><td>1-W   </td><td>West  </td><td>lamtrw</td><td>1     </td></tr>\n",
       "\t<tr><td>1     </td><td>1-W   </td><td>West  </td><td>70tSta</td><td>2     </td></tr>\n",
       "</tbody>\n",
       "</table>\n"
      ],
      "text/latex": [
       "\\begin{tabular}{r|lllll}\n",
       " route\\_id & pattern\\_id & pattern\\_direction & place\\_id & place\\_rank\\\\\n",
       "\\hline\n",
       "\t 1      & 1-W    & West   & grotro & 0     \\\\\n",
       "\t 1      & 1-W    & West   & lamtrw & 1     \\\\\n",
       "\t 1      & 1-W    & West   & 70tSta & 2     \\\\\n",
       "\\end{tabular}\n"
      ],
      "text/markdown": [
       "\n",
       "route_id | pattern_id | pattern_direction | place_id | place_rank | \n",
       "|---|---|---|\n",
       "| 1      | 1-W    | West   | grotro | 0      | \n",
       "| 1      | 1-W    | West   | lamtrw | 1      | \n",
       "| 1      | 1-W    | West   | 70tSta | 2      | \n",
       "\n",
       "\n"
      ],
      "text/plain": [
       "  route_id pattern_id pattern_direction place_id place_rank\n",
       "1 1        1-W        West              grotro   0         \n",
       "2 1        1-W        West              lamtrw   1         \n",
       "3 1        1-W        West              70tSta   2         "
      ]
     },
     "metadata": {},
     "output_type": "display_data"
    }
   ],
   "source": [
    "head(place_patterns, n=3)"
   ]
  },
  {
   "cell_type": "code",
   "execution_count": 5,
   "metadata": {
    "collapsed": false
   },
   "outputs": [
    {
     "data": {
      "text/html": [
       "<table>\n",
       "<thead><tr><th scope=col>place_id</th><th scope=col>place_name</th><th scope=col>reference_place</th><th scope=col>place_lat</th><th scope=col>place_long</th></tr></thead>\n",
       "<tbody>\n",
       "\t<tr><td>10tbro                 </td><td>10th Ave &amp; Broadway</td><td>                       </td><td>32.71620               </td><td>-117.1558              </td></tr>\n",
       "\t<tr><td>10thb                                                          </td><td><span style=white-space:pre-wrap>10th Ave &amp; B St    </span></td><td>                                                               </td><td>32.71887                                                       </td><td>-117.1557                                                      </td></tr>\n",
       "\t<tr><td>11tbro                 </td><td>11th Ave &amp; Broadway</td><td>                       </td><td>32.71627               </td><td>-117.1546              </td></tr>\n",
       "</tbody>\n",
       "</table>\n"
      ],
      "text/latex": [
       "\\begin{tabular}{r|lllll}\n",
       " place\\_id & place\\_name & reference\\_place & place\\_lat & place\\_long\\\\\n",
       "\\hline\n",
       "\t 10tbro                & 10th Ave \\& Broadway &                       & 32.71620              & -117.1558            \\\\\n",
       "\t 10thb                 & 10th Ave \\& B St     &                       & 32.71887              & -117.1557            \\\\\n",
       "\t 11tbro                & 11th Ave \\& Broadway &                       & 32.71627              & -117.1546            \\\\\n",
       "\\end{tabular}\n"
      ],
      "text/markdown": [
       "\n",
       "place_id | place_name | reference_place | place_lat | place_long | \n",
       "|---|---|---|\n",
       "| 10tbro              | 10th Ave & Broadway |                     | 32.71620            | -117.1558           | \n",
       "| 10thb               | 10th Ave & B St     |                     | 32.71887            | -117.1557           | \n",
       "| 11tbro              | 11th Ave & Broadway |                     | 32.71627            | -117.1546           | \n",
       "\n",
       "\n"
      ],
      "text/plain": [
       "  place_id place_name          reference_place place_lat place_long\n",
       "1 10tbro   10th Ave & Broadway                 32.71620  -117.1558 \n",
       "2 10thb    10th Ave & B St                     32.71887  -117.1557 \n",
       "3 11tbro   11th Ave & Broadway                 32.71627  -117.1546 "
      ]
     },
     "metadata": {},
     "output_type": "display_data"
    }
   ],
   "source": [
    "head(places, n=3)"
   ]
  },
  {
   "cell_type": "code",
   "execution_count": 6,
   "metadata": {
    "collapsed": false
   },
   "outputs": [
    {
     "data": {
      "text/html": [
       "<table>\n",
       "<thead><tr><th scope=col>route_id</th><th scope=col>route_short_name</th><th scope=col>route_long_name</th><th scope=col>route_type</th><th scope=col>agency_id</th><th scope=col>route_desc</th><th scope=col>route_url</th><th scope=col>route_color</th><th scope=col>route_text_color</th><th scope=col>route_pattern1</th><th scope=col>route_pattern2</th></tr></thead>\n",
       "<tbody>\n",
       "\t<tr><td>1                                                  </td><td>1                                                  </td><td>Hillcrest - Grossmont Transit Ctr.                 </td><td>3                                                  </td><td>MTS                                                </td><td>NA                                                 </td><td>http://www.sdmts.com/schedules-real-time?fragment=1</td><td>000099                                             </td><td>FFFFFF                                             </td><td>1-W                                                </td><td>1-E                                                </td></tr>\n",
       "\t<tr><td>2                                                                                </td><td>2                                                                                </td><td><span style=white-space:pre-wrap>Downtown SanDiego - 30th &amp; Adams     </span></td><td>3                                                                                </td><td>MTS                                                                              </td><td>NA                                                                               </td><td>http://www.sdmts.com/schedules-real-time?fragment=2                              </td><td>000099                                                                           </td><td>FFFFFF                                                                           </td><td>2-S1                                                                             </td><td>2-N1                                                                             </td></tr>\n",
       "\t<tr><td>3                                                  </td><td>3                                                  </td><td>UCSD Hospital - Euclid Transit Center              </td><td>3                                                  </td><td>MTS                                                </td><td>NA                                                 </td><td>http://www.sdmts.com/schedules-real-time?fragment=3</td><td>000099                                             </td><td>FFFFFF                                             </td><td>3-N                                                </td><td>3-S                                                </td></tr>\n",
       "</tbody>\n",
       "</table>\n"
      ],
      "text/latex": [
       "\\begin{tabular}{r|lllllllllll}\n",
       " route\\_id & route\\_short\\_name & route\\_long\\_name & route\\_type & agency\\_id & route\\_desc & route\\_url & route\\_color & route\\_text\\_color & route\\_pattern1 & route\\_pattern2\\\\\n",
       "\\hline\n",
       "\t 1                                                   & 1                                                   & Hillcrest - Grossmont Transit Ctr.                  & 3                                                   & MTS                                                 & NA                                                  & http://www.sdmts.com/schedules-real-time?fragment=1 & 000099                                              & FFFFFF                                              & 1-W                                                 & 1-E                                                \\\\\n",
       "\t 2                                                   & 2                                                   & Downtown SanDiego - 30th \\& Adams                  & 3                                                   & MTS                                                 & NA                                                  & http://www.sdmts.com/schedules-real-time?fragment=2 & 000099                                              & FFFFFF                                              & 2-S1                                                & 2-N1                                               \\\\\n",
       "\t 3                                                   & 3                                                   & UCSD Hospital - Euclid Transit Center               & 3                                                   & MTS                                                 & NA                                                  & http://www.sdmts.com/schedules-real-time?fragment=3 & 000099                                              & FFFFFF                                              & 3-N                                                 & 3-S                                                \\\\\n",
       "\\end{tabular}\n"
      ],
      "text/markdown": [
       "\n",
       "route_id | route_short_name | route_long_name | route_type | agency_id | route_desc | route_url | route_color | route_text_color | route_pattern1 | route_pattern2 | \n",
       "|---|---|---|\n",
       "| 1                                                   | 1                                                   | Hillcrest - Grossmont Transit Ctr.                  | 3                                                   | MTS                                                 | NA                                                  | http://www.sdmts.com/schedules-real-time?fragment=1 | 000099                                              | FFFFFF                                              | 1-W                                                 | 1-E                                                 | \n",
       "| 2                                                   | 2                                                   | Downtown SanDiego - 30th & Adams                    | 3                                                   | MTS                                                 | NA                                                  | http://www.sdmts.com/schedules-real-time?fragment=2 | 000099                                              | FFFFFF                                              | 2-S1                                                | 2-N1                                                | \n",
       "| 3                                                   | 3                                                   | UCSD Hospital - Euclid Transit Center               | 3                                                   | MTS                                                 | NA                                                  | http://www.sdmts.com/schedules-real-time?fragment=3 | 000099                                              | FFFFFF                                              | 3-N                                                 | 3-S                                                 | \n",
       "\n",
       "\n"
      ],
      "text/plain": [
       "  route_id route_short_name route_long_name                       route_type\n",
       "1 1        1                Hillcrest - Grossmont Transit Ctr.    3         \n",
       "2 2        2                Downtown SanDiego - 30th & Adams      3         \n",
       "3 3        3                UCSD Hospital - Euclid Transit Center 3         \n",
       "  agency_id route_desc route_url                                          \n",
       "1 MTS       NA         http://www.sdmts.com/schedules-real-time?fragment=1\n",
       "2 MTS       NA         http://www.sdmts.com/schedules-real-time?fragment=2\n",
       "3 MTS       NA         http://www.sdmts.com/schedules-real-time?fragment=3\n",
       "  route_color route_text_color route_pattern1 route_pattern2\n",
       "1 000099      FFFFFF           1-W            1-E           \n",
       "2 000099      FFFFFF           2-S1           2-N1          \n",
       "3 000099      FFFFFF           3-N            3-S           "
      ]
     },
     "metadata": {},
     "output_type": "display_data"
    }
   ],
   "source": [
    "head(routes, n=3)"
   ]
  },
  {
   "cell_type": "code",
   "execution_count": 7,
   "metadata": {
    "collapsed": false
   },
   "outputs": [
    {
     "data": {
      "text/html": [
       "<table>\n",
       "<thead><tr><th scope=col>shape_id</th><th scope=col>shape_pt_lat</th><th scope=col>shape_pt_lon</th><th scope=col>shape_pt_sequence</th><th scope=col>shape_dist_traveled</th></tr></thead>\n",
       "<tbody>\n",
       "\t<tr><td>1_2_125  </td><td>32.74626 </td><td>-117.1604</td><td>10001    </td><td>0.000    </td></tr>\n",
       "\t<tr><td>1_2_125  </td><td>32.74696 </td><td>-117.1604</td><td>10002    </td><td>0.048    </td></tr>\n",
       "\t<tr><td>1_2_125  </td><td>32.74811 </td><td>-117.1604</td><td>10003    </td><td>0.128    </td></tr>\n",
       "</tbody>\n",
       "</table>\n"
      ],
      "text/latex": [
       "\\begin{tabular}{r|lllll}\n",
       " shape\\_id & shape\\_pt\\_lat & shape\\_pt\\_lon & shape\\_pt\\_sequence & shape\\_dist\\_traveled\\\\\n",
       "\\hline\n",
       "\t 1\\_2\\_125 & 32.74626    & -117.1604   & 10001       & 0.000      \\\\\n",
       "\t 1\\_2\\_125 & 32.74696    & -117.1604   & 10002       & 0.048      \\\\\n",
       "\t 1\\_2\\_125 & 32.74811    & -117.1604   & 10003       & 0.128      \\\\\n",
       "\\end{tabular}\n"
      ],
      "text/markdown": [
       "\n",
       "shape_id | shape_pt_lat | shape_pt_lon | shape_pt_sequence | shape_dist_traveled | \n",
       "|---|---|---|\n",
       "| 1_2_125   | 32.74626  | -117.1604 | 10001     | 0.000     | \n",
       "| 1_2_125   | 32.74696  | -117.1604 | 10002     | 0.048     | \n",
       "| 1_2_125   | 32.74811  | -117.1604 | 10003     | 0.128     | \n",
       "\n",
       "\n"
      ],
      "text/plain": [
       "  shape_id shape_pt_lat shape_pt_lon shape_pt_sequence shape_dist_traveled\n",
       "1 1_2_125  32.74626     -117.1604    10001             0.000              \n",
       "2 1_2_125  32.74696     -117.1604    10002             0.048              \n",
       "3 1_2_125  32.74811     -117.1604    10003             0.128              "
      ]
     },
     "metadata": {},
     "output_type": "display_data"
    }
   ],
   "source": [
    "head(shapes, n=3)"
   ]
  },
  {
   "cell_type": "code",
   "execution_count": 8,
   "metadata": {
    "collapsed": false
   },
   "outputs": [
    {
     "data": {
      "text/html": [
       "<table>\n",
       "<thead><tr><th scope=col>trip_id</th><th scope=col>arrival_time</th><th scope=col>departure_time</th><th scope=col>stop_id</th><th scope=col>stop_sequence</th><th scope=col>timepoint</th><th scope=col>shape_dist_traveled</th><th scope=col>position_in_block</th><th scope=col>stop_headsign</th><th scope=col>pickup_type</th><th scope=col>drop_off_type</th><th scope=col>stop_headsign_short</th><th scope=col>stop_is_last</th></tr></thead>\n",
       "<tbody>\n",
       "\t<tr><td>12196138</td><td>5:05:00 </td><td>5:05:00 </td><td>40846   </td><td>1       </td><td>1       </td><td>0.000   </td><td>0       </td><td>        </td><td>0       </td><td>0       </td><td>        </td><td>0       </td></tr>\n",
       "\t<tr><td>12196138</td><td>5:05:00 </td><td>5:05:00 </td><td>40739   </td><td>2       </td><td>0       </td><td>0.088   </td><td>1       </td><td>        </td><td>0       </td><td>0       </td><td>        </td><td>0       </td></tr>\n",
       "\t<tr><td>12196138</td><td>5:06:00 </td><td>5:06:00 </td><td>40434   </td><td>3       </td><td>0       </td><td>0.222   </td><td>2       </td><td>        </td><td>0       </td><td>0       </td><td>        </td><td>0       </td></tr>\n",
       "</tbody>\n",
       "</table>\n"
      ],
      "text/latex": [
       "\\begin{tabular}{r|lllllllllllll}\n",
       " trip\\_id & arrival\\_time & departure\\_time & stop\\_id & stop\\_sequence & timepoint & shape\\_dist\\_traveled & position\\_in\\_block & stop\\_headsign & pickup\\_type & drop\\_off\\_type & stop\\_headsign\\_short & stop\\_is\\_last\\\\\n",
       "\\hline\n",
       "\t 12196138 & 5:05:00  & 5:05:00  & 40846    & 1        & 1        & 0.000    & 0        &          & 0        & 0        &          & 0       \\\\\n",
       "\t 12196138 & 5:05:00  & 5:05:00  & 40739    & 2        & 0        & 0.088    & 1        &          & 0        & 0        &          & 0       \\\\\n",
       "\t 12196138 & 5:06:00  & 5:06:00  & 40434    & 3        & 0        & 0.222    & 2        &          & 0        & 0        &          & 0       \\\\\n",
       "\\end{tabular}\n"
      ],
      "text/markdown": [
       "\n",
       "trip_id | arrival_time | departure_time | stop_id | stop_sequence | timepoint | shape_dist_traveled | position_in_block | stop_headsign | pickup_type | drop_off_type | stop_headsign_short | stop_is_last | \n",
       "|---|---|---|\n",
       "| 12196138 | 5:05:00  | 5:05:00  | 40846    | 1        | 1        | 0.000    | 0        |          | 0        | 0        |          | 0        | \n",
       "| 12196138 | 5:05:00  | 5:05:00  | 40739    | 2        | 0        | 0.088    | 1        |          | 0        | 0        |          | 0        | \n",
       "| 12196138 | 5:06:00  | 5:06:00  | 40434    | 3        | 0        | 0.222    | 2        |          | 0        | 0        |          | 0        | \n",
       "\n",
       "\n"
      ],
      "text/plain": [
       "  trip_id  arrival_time departure_time stop_id stop_sequence timepoint\n",
       "1 12196138 5:05:00      5:05:00        40846   1             1        \n",
       "2 12196138 5:05:00      5:05:00        40739   2             0        \n",
       "3 12196138 5:06:00      5:06:00        40434   3             0        \n",
       "  shape_dist_traveled position_in_block stop_headsign pickup_type drop_off_type\n",
       "1 0.000               0                               0           0            \n",
       "2 0.088               1                               0           0            \n",
       "3 0.222               2                               0           0            \n",
       "  stop_headsign_short stop_is_last\n",
       "1                     0           \n",
       "2                     0           \n",
       "3                     0           "
      ]
     },
     "metadata": {},
     "output_type": "display_data"
    }
   ],
   "source": [
    "head(stop_times, n=3)"
   ]
  },
  {
   "cell_type": "code",
   "execution_count": 9,
   "metadata": {
    "collapsed": false
   },
   "outputs": [
    {
     "data": {
      "text/html": [
       "<table>\n",
       "<thead><tr><th scope=col>stop_id</th><th scope=col>stop_name</th><th scope=col>stop_lat</th><th scope=col>stop_lon</th><th scope=col>stop_code</th><th scope=col>location_type</th><th scope=col>parent_station</th><th scope=col>wheelchair_boarding</th><th scope=col>intersection_code</th><th scope=col>stop_place</th><th scope=col>reference_place</th><th scope=col>stop_name_short</th></tr></thead>\n",
       "<tbody>\n",
       "\t<tr><td>10001                     </td><td>Cabrillo National Monument</td><td>32.67446                  </td><td>-117.2404                 </td><td>10001                     </td><td>0                         </td><td>                          </td><td>1                         </td><td>M-Special_Loc             </td><td>cabmon                    </td><td>                          </td><td>Cabrillo Natl Monument    </td></tr>\n",
       "\t<tr><td>10003                                                                 </td><td><span style=white-space:pre-wrap>Pearl St &amp; Draper Av      </span></td><td>32.83958                                                              </td><td>-117.2762                                                             </td><td>10003                                                                 </td><td>0                                                                     </td><td>                                                                      </td><td>1                                                                     </td><td><span style=white-space:pre-wrap>N-E/B        </span>                 </td><td><span style=white-space:pre-wrap>      </span>                        </td><td>                                                                      </td><td><span style=white-space:pre-wrap>Pearl&amp;Draper          </span>    </td></tr>\n",
       "\t<tr><td>10004                                                                 </td><td><span style=white-space:pre-wrap>Pearl St &amp; Fay Av         </span></td><td>32.84013                                                              </td><td>-117.2738                                                             </td><td>10004                                                                 </td><td>0                                                                     </td><td>                                                                      </td><td>1                                                                     </td><td><span style=white-space:pre-wrap>N-E/B        </span>                 </td><td><span style=white-space:pre-wrap>      </span>                        </td><td>                                                                      </td><td><span style=white-space:pre-wrap>Pearl&amp;Fay             </span>    </td></tr>\n",
       "</tbody>\n",
       "</table>\n"
      ],
      "text/latex": [
       "\\begin{tabular}{r|llllllllllll}\n",
       " stop\\_id & stop\\_name & stop\\_lat & stop\\_lon & stop\\_code & location\\_type & parent\\_station & wheelchair\\_boarding & intersection\\_code & stop\\_place & reference\\_place & stop\\_name\\_short\\\\\n",
       "\\hline\n",
       "\t 10001                      & Cabrillo National Monument & 32.67446                   & -117.2404                  & 10001                      & 0                          &                            & 1                          & M-Special\\_Loc            & cabmon                     &                            & Cabrillo Natl Monument    \\\\\n",
       "\t 10003                        & Pearl St \\& Draper Av       & 32.83958                     & -117.2762                    & 10003                        & 0                            &                              & 1                            & N-E/B                        &                              &                              & Pearl\\&Draper              \\\\\n",
       "\t 10004                        & Pearl St \\& Fay Av          & 32.84013                     & -117.2738                    & 10004                        & 0                            &                              & 1                            & N-E/B                        &                              &                              & Pearl\\&Fay                 \\\\\n",
       "\\end{tabular}\n"
      ],
      "text/markdown": [
       "\n",
       "stop_id | stop_name | stop_lat | stop_lon | stop_code | location_type | parent_station | wheelchair_boarding | intersection_code | stop_place | reference_place | stop_name_short | \n",
       "|---|---|---|\n",
       "| 10001                      | Cabrillo National Monument | 32.67446                   | -117.2404                  | 10001                      | 0                          |                            | 1                          | M-Special_Loc              | cabmon                     |                            | Cabrillo Natl Monument     | \n",
       "| 10003                      | Pearl St & Draper Av       | 32.83958                   | -117.2762                  | 10003                      | 0                          |                            | 1                          | N-E/B                      |                            |                            | Pearl&Draper               | \n",
       "| 10004                      | Pearl St & Fay Av          | 32.84013                   | -117.2738                  | 10004                      | 0                          |                            | 1                          | N-E/B                      |                            |                            | Pearl&Fay                  | \n",
       "\n",
       "\n"
      ],
      "text/plain": [
       "  stop_id stop_name                  stop_lat stop_lon  stop_code location_type\n",
       "1 10001   Cabrillo National Monument 32.67446 -117.2404 10001     0            \n",
       "2 10003   Pearl St & Draper Av       32.83958 -117.2762 10003     0            \n",
       "3 10004   Pearl St & Fay Av          32.84013 -117.2738 10004     0            \n",
       "  parent_station wheelchair_boarding intersection_code stop_place\n",
       "1                1                   M-Special_Loc     cabmon    \n",
       "2                1                   N-E/B                       \n",
       "3                1                   N-E/B                       \n",
       "  reference_place stop_name_short       \n",
       "1                 Cabrillo Natl Monument\n",
       "2                 Pearl&Draper          \n",
       "3                 Pearl&Fay             "
      ]
     },
     "metadata": {},
     "output_type": "display_data"
    }
   ],
   "source": [
    "head(stops, n=3)"
   ]
  },
  {
   "cell_type": "code",
   "execution_count": 10,
   "metadata": {
    "collapsed": false
   },
   "outputs": [
    {
     "data": {
      "text/html": [
       "<table>\n",
       "<thead><tr><th scope=col>route_id</th><th scope=col>service_id</th><th scope=col>trip_id</th><th scope=col>trip_headsign</th><th scope=col>direction_id</th><th scope=col>direction_name</th><th scope=col>block_id</th><th scope=col>shape_id</th><th scope=col>wheelchair_accessible</th><th scope=col>trip_bikes_allowed</th><th scope=col>trip_headsign_short</th></tr></thead>\n",
       "<tbody>\n",
       "\t<tr><td>115                 </td><td>65078-1111100-0     </td><td>12196807            </td><td>El Cajon Transit Ctr</td><td>0                   </td><td>East                </td><td>11504               </td><td>115_2_71            </td><td>1                   </td><td>2                   </td><td>El Caj TC           </td></tr>\n",
       "\t<tr><td>115                 </td><td>65078-1111100-0     </td><td>12196791            </td><td>El Cajon Transit Ctr</td><td>0                   </td><td>East                </td><td>11503               </td><td>115_2_70            </td><td>1                   </td><td>2                   </td><td>El Caj TC           </td></tr>\n",
       "\t<tr><td>115                 </td><td>65078-1111100-0     </td><td>12196749            </td><td>El Cajon Transit Ctr</td><td>0                   </td><td>East                </td><td>11501               </td><td>115_2_70            </td><td>1                   </td><td>2                   </td><td>El Caj TC           </td></tr>\n",
       "</tbody>\n",
       "</table>\n"
      ],
      "text/latex": [
       "\\begin{tabular}{r|lllllllllll}\n",
       " route\\_id & service\\_id & trip\\_id & trip\\_headsign & direction\\_id & direction\\_name & block\\_id & shape\\_id & wheelchair\\_accessible & trip\\_bikes\\_allowed & trip\\_headsign\\_short\\\\\n",
       "\\hline\n",
       "\t 115                  & 65078-1111100-0      & 12196807             & El Cajon Transit Ctr & 0                    & East                 & 11504                & 115\\_2\\_71         & 1                    & 2                    & El Caj TC           \\\\\n",
       "\t 115                  & 65078-1111100-0      & 12196791             & El Cajon Transit Ctr & 0                    & East                 & 11503                & 115\\_2\\_70         & 1                    & 2                    & El Caj TC           \\\\\n",
       "\t 115                  & 65078-1111100-0      & 12196749             & El Cajon Transit Ctr & 0                    & East                 & 11501                & 115\\_2\\_70         & 1                    & 2                    & El Caj TC           \\\\\n",
       "\\end{tabular}\n"
      ],
      "text/markdown": [
       "\n",
       "route_id | service_id | trip_id | trip_headsign | direction_id | direction_name | block_id | shape_id | wheelchair_accessible | trip_bikes_allowed | trip_headsign_short | \n",
       "|---|---|---|\n",
       "| 115                  | 65078-1111100-0      | 12196807             | El Cajon Transit Ctr | 0                    | East                 | 11504                | 115_2_71             | 1                    | 2                    | El Caj TC            | \n",
       "| 115                  | 65078-1111100-0      | 12196791             | El Cajon Transit Ctr | 0                    | East                 | 11503                | 115_2_70             | 1                    | 2                    | El Caj TC            | \n",
       "| 115                  | 65078-1111100-0      | 12196749             | El Cajon Transit Ctr | 0                    | East                 | 11501                | 115_2_70             | 1                    | 2                    | El Caj TC            | \n",
       "\n",
       "\n"
      ],
      "text/plain": [
       "  route_id service_id      trip_id  trip_headsign        direction_id\n",
       "1 115      65078-1111100-0 12196807 El Cajon Transit Ctr 0           \n",
       "2 115      65078-1111100-0 12196791 El Cajon Transit Ctr 0           \n",
       "3 115      65078-1111100-0 12196749 El Cajon Transit Ctr 0           \n",
       "  direction_name block_id shape_id wheelchair_accessible trip_bikes_allowed\n",
       "1 East           11504    115_2_71 1                     2                 \n",
       "2 East           11503    115_2_70 1                     2                 \n",
       "3 East           11501    115_2_70 1                     2                 \n",
       "  trip_headsign_short\n",
       "1 El Caj TC          \n",
       "2 El Caj TC          \n",
       "3 El Caj TC          "
      ]
     },
     "metadata": {},
     "output_type": "display_data"
    }
   ],
   "source": [
    "head(trips, n=3)"
   ]
  }
 ],
 "metadata": {
  "kernelspec": {
   "display_name": "R",
   "language": "R",
   "name": "ir"
  },
  "language_info": {
   "codemirror_mode": "r",
   "file_extension": ".r",
   "mimetype": "text/x-r-source",
   "name": "R",
   "pygments_lexer": "r",
   "version": "3.3.3"
  }
 },
 "nbformat": 4,
 "nbformat_minor": 2
}
