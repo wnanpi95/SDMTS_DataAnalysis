{
 "cells": [
  {
   "cell_type": "code",
   "execution_count": 1,
   "metadata": {
    "collapsed": true
   },
   "outputs": [],
   "source": [
    "import pandas as pd\n",
    "import numpy as np\n",
    "import seaborn as sns\n",
    "import matplotlib.pyplot as plt\n",
    "import gmplot\n",
    "from IPython.core.display import display, HTML\n",
    "%matplotlib inline"
   ]
  },
  {
   "cell_type": "code",
   "execution_count": 3,
   "metadata": {
    "collapsed": false
   },
   "outputs": [
    {
     "name": "stdout",
     "output_type": "stream",
     "text": [
      "216237\n",
      "210706\n",
      "172521\n",
      "172521\n"
     ]
    }
   ],
   "source": [
    "df_raw = pd.read_csv(\"~/Desktop/SDMTS/output.txt\")\n",
    "print(len(df_raw.index))\n",
    "df = df_raw[df_raw.dist_travelled.notnull()]\n",
    "print(len(df.index))\n",
    "df = df[df.velocity.notnull()]\n",
    "print(len(df.index))\n",
    "#df.head()\n",
    "df = df.drop_duplicates()\n",
    "print(len(df.index))"
   ]
  },
  {
   "cell_type": "code",
   "execution_count": 8,
   "metadata": {
    "collapsed": false
   },
   "outputs": [
    {
     "name": "stdout",
     "output_type": "stream",
     "text": [
      "182105\n",
      "113249\n"
     ]
    }
   ],
   "source": [
    "raw = pd.read_csv(\"~/Desktop/SDMTS/ParsedFeedData/Completed/2017-07-08.csv\")\n",
    "print(len(raw.index))\n",
    "raw = raw.drop_duplicates()\n",
    "print(len(raw.index))"
   ]
  },
  {
   "cell_type": "code",
   "execution_count": 21,
   "metadata": {
    "collapsed": false
   },
   "outputs": [
    {
     "data": {
      "image/png": "[encoded data removed]",
      "text/plain": [
       "<matplotlib.figure.Figure at 0x117024710>"
      ]
     },
     "metadata": {},
     "output_type": "display_data"
    }
   ],
   "source": [
    "#test_vehicle = df[df.vehicle_id == 2731]\n",
    "test_vehicle = df[df.trip_id == 12341775]\n",
    "test_vehicle = test_vehicle.sort_values(by=\"timestamp\", )\n",
    "test_vehicle.reset_index(drop=True, inplace=True)\n",
    "start = 300\n",
    "window = 100\n",
    "\n",
    "#plt.plot(test_vehicle[start:start+window].timestamp, test_vehicle[start:start+window].dist_travelled, 'ro')\n",
    "plt.plot(test_vehicle.timestamp, test_vehicle.dist_travelled, 'ro')\n",
    "\n",
    "plt.show()"
   ]
  },
  {
   "cell_type": "code",
   "execution_count": 24,
   "metadata": {
    "collapsed": false
   },
   "outputs": [
    {
     "data": {
      "text/html": [
       "<div>\n",
       "<table border=\"1\" class=\"dataframe\">\n",
       "  <thead>\n",
       "    <tr style=\"text-align: right;\">\n",
       "      <th></th>\n",
       "      <th>route</th>\n",
       "      <th>trip_id</th>\n",
       "      <th>timestamp</th>\n",
       "      <th>latitude</th>\n",
       "      <th>longitude</th>\n",
       "      <th>vehicle_id</th>\n",
       "      <th>dist_travelled</th>\n",
       "      <th>velocity</th>\n",
       "      <th>v_lat</th>\n",
       "      <th>v_lon</th>\n",
       "    </tr>\n",
       "  </thead>\n",
       "  <tbody>\n",
       "    <tr>\n",
       "      <th>0</th>\n",
       "      <td>202</td>\n",
       "      <td>12341775</td>\n",
       "      <td>1497876275</td>\n",
       "      <td>32.8727</td>\n",
       "      <td>-117.214</td>\n",
       "      <td>1116</td>\n",
       "      <td>0.000000</td>\n",
       "      <td>0.000602</td>\n",
       "      <td>-0.999986</td>\n",
       "      <td>-0.005277</td>\n",
       "    </tr>\n",
       "    <tr>\n",
       "      <th>1</th>\n",
       "      <td>202</td>\n",
       "      <td>12341775</td>\n",
       "      <td>1497876457</td>\n",
       "      <td>32.8670</td>\n",
       "      <td>-117.214</td>\n",
       "      <td>1116</td>\n",
       "      <td>0.247000</td>\n",
       "      <td>0.001638</td>\n",
       "      <td>-0.223252</td>\n",
       "      <td>-0.974761</td>\n",
       "    </tr>\n",
       "    <tr>\n",
       "      <th>2</th>\n",
       "      <td>202</td>\n",
       "      <td>12341775</td>\n",
       "      <td>1497876546</td>\n",
       "      <td>32.8674</td>\n",
       "      <td>-117.219</td>\n",
       "      <td>1116</td>\n",
       "      <td>0.520000</td>\n",
       "      <td>0.003809</td>\n",
       "      <td>-0.797659</td>\n",
       "      <td>-0.603108</td>\n",
       "    </tr>\n",
       "    <tr>\n",
       "      <th>3</th>\n",
       "      <td>202</td>\n",
       "      <td>12341775</td>\n",
       "      <td>1497876626</td>\n",
       "      <td>32.8617</td>\n",
       "      <td>-117.223</td>\n",
       "      <td>1116</td>\n",
       "      <td>1.016000</td>\n",
       "      <td>0.005623</td>\n",
       "      <td>-1.000000</td>\n",
       "      <td>0.000000</td>\n",
       "    </tr>\n",
       "    <tr>\n",
       "      <th>4</th>\n",
       "      <td>202</td>\n",
       "      <td>12341775</td>\n",
       "      <td>1497876719</td>\n",
       "      <td>32.8647</td>\n",
       "      <td>-117.225</td>\n",
       "      <td>1116</td>\n",
       "      <td>1.393000</td>\n",
       "      <td>0.004087</td>\n",
       "      <td>0.777016</td>\n",
       "      <td>-0.629481</td>\n",
       "    </tr>\n",
       "    <tr>\n",
       "      <th>5</th>\n",
       "      <td>202</td>\n",
       "      <td>12341775</td>\n",
       "      <td>1497876767</td>\n",
       "      <td>32.8682</td>\n",
       "      <td>-117.225</td>\n",
       "      <td>1116</td>\n",
       "      <td>1.597000</td>\n",
       "      <td>0.004179</td>\n",
       "      <td>0.999927</td>\n",
       "      <td>-0.012047</td>\n",
       "    </tr>\n",
       "    <tr>\n",
       "      <th>6</th>\n",
       "      <td>202</td>\n",
       "      <td>12341775</td>\n",
       "      <td>1497876839</td>\n",
       "      <td>32.8683</td>\n",
       "      <td>-117.229</td>\n",
       "      <td>1116</td>\n",
       "      <td>1.886000</td>\n",
       "      <td>0.003406</td>\n",
       "      <td>-0.118720</td>\n",
       "      <td>-0.992928</td>\n",
       "    </tr>\n",
       "    <tr>\n",
       "      <th>7</th>\n",
       "      <td>202</td>\n",
       "      <td>12341775</td>\n",
       "      <td>1497876926</td>\n",
       "      <td>32.8676</td>\n",
       "      <td>-117.233</td>\n",
       "      <td>1116</td>\n",
       "      <td>2.042003</td>\n",
       "      <td>0.002626</td>\n",
       "      <td>-0.182474</td>\n",
       "      <td>-0.983211</td>\n",
       "    </tr>\n",
       "    <tr>\n",
       "      <th>8</th>\n",
       "      <td>202</td>\n",
       "      <td>12341775</td>\n",
       "      <td>1497877013</td>\n",
       "      <td>32.8643</td>\n",
       "      <td>-117.236</td>\n",
       "      <td>1116</td>\n",
       "      <td>2.488000</td>\n",
       "      <td>0.005013</td>\n",
       "      <td>0.966235</td>\n",
       "      <td>-0.257663</td>\n",
       "    </tr>\n",
       "    <tr>\n",
       "      <th>9</th>\n",
       "      <td>202</td>\n",
       "      <td>12341775</td>\n",
       "      <td>1497877157</td>\n",
       "      <td>32.8749</td>\n",
       "      <td>-117.239</td>\n",
       "      <td>1116</td>\n",
       "      <td>3.174001</td>\n",
       "      <td>0.004473</td>\n",
       "      <td>0.853282</td>\n",
       "      <td>-0.521450</td>\n",
       "    </tr>\n",
       "    <tr>\n",
       "      <th>10</th>\n",
       "      <td>202</td>\n",
       "      <td>12341775</td>\n",
       "      <td>1497877281</td>\n",
       "      <td>32.8769</td>\n",
       "      <td>-117.235</td>\n",
       "      <td>1116</td>\n",
       "      <td>3.609000</td>\n",
       "      <td>0.003548</td>\n",
       "      <td>0.005000</td>\n",
       "      <td>0.999987</td>\n",
       "    </tr>\n",
       "    <tr>\n",
       "      <th>11</th>\n",
       "      <td>202</td>\n",
       "      <td>12341775</td>\n",
       "      <td>1497877312</td>\n",
       "      <td>32.8768</td>\n",
       "      <td>-117.233</td>\n",
       "      <td>1116</td>\n",
       "      <td>3.730000</td>\n",
       "      <td>0.004545</td>\n",
       "      <td>-0.361321</td>\n",
       "      <td>0.932441</td>\n",
       "    </tr>\n",
       "    <tr>\n",
       "      <th>12</th>\n",
       "      <td>202</td>\n",
       "      <td>12341775</td>\n",
       "      <td>1497877944</td>\n",
       "      <td>32.8704</td>\n",
       "      <td>-117.214</td>\n",
       "      <td>1116</td>\n",
       "      <td>5.777006</td>\n",
       "      <td>0.001657</td>\n",
       "      <td>-0.999984</td>\n",
       "      <td>-0.005642</td>\n",
       "    </tr>\n",
       "  </tbody>\n",
       "</table>\n",
       "</div>"
      ],
      "text/plain": [
       "    route   trip_id   timestamp  latitude  longitude  vehicle_id  \\\n",
       "0     202  12341775  1497876275   32.8727   -117.214        1116   \n",
       "1     202  12341775  1497876457   32.8670   -117.214        1116   \n",
       "2     202  12341775  1497876546   32.8674   -117.219        1116   \n",
       "3     202  12341775  1497876626   32.8617   -117.223        1116   \n",
       "4     202  12341775  1497876719   32.8647   -117.225        1116   \n",
       "5     202  12341775  1497876767   32.8682   -117.225        1116   \n",
       "6     202  12341775  1497876839   32.8683   -117.229        1116   \n",
       "7     202  12341775  1497876926   32.8676   -117.233        1116   \n",
       "8     202  12341775  1497877013   32.8643   -117.236        1116   \n",
       "9     202  12341775  1497877157   32.8749   -117.239        1116   \n",
       "10    202  12341775  1497877281   32.8769   -117.235        1116   \n",
       "11    202  12341775  1497877312   32.8768   -117.233        1116   \n",
       "12    202  12341775  1497877944   32.8704   -117.214        1116   \n",
       "\n",
       "    dist_travelled  velocity     v_lat     v_lon  \n",
       "0         0.000000  0.000602 -0.999986 -0.005277  \n",
       "1         0.247000  0.001638 -0.223252 -0.974761  \n",
       "2         0.520000  0.003809 -0.797659 -0.603108  \n",
       "3         1.016000  0.005623 -1.000000  0.000000  \n",
       "4         1.393000  0.004087  0.777016 -0.629481  \n",
       "5         1.597000  0.004179  0.999927 -0.012047  \n",
       "6         1.886000  0.003406 -0.118720 -0.992928  \n",
       "7         2.042003  0.002626 -0.182474 -0.983211  \n",
       "8         2.488000  0.005013  0.966235 -0.257663  \n",
       "9         3.174001  0.004473  0.853282 -0.521450  \n",
       "10        3.609000  0.003548  0.005000  0.999987  \n",
       "11        3.730000  0.004545 -0.361321  0.932441  \n",
       "12        5.777006  0.001657 -0.999984 -0.005642  "
      ]
     },
     "execution_count": 24,
     "metadata": {},
     "output_type": "execute_result"
    }
   ],
   "source": [
    "test_vehicle"
   ]
  },
  {
   "cell_type": "code",
   "execution_count": 26,
   "metadata": {
    "collapsed": false
   },
   "outputs": [
    {
     "data": {
      "image/png": "[encoded data removed]",
      "text/plain": [
       "<matplotlib.figure.Figure at 0x11c082510>"
      ]
     },
     "metadata": {},
     "output_type": "display_data"
    }
   ],
   "source": [
    "#test_vehicle = df[df.vehicle_id == 2731]\n",
    "test_vehicle = df[df.trip_id == 12341775]\n",
    "test_vehicle = test_vehicle.sort_values(by=\"timestamp\", )\n",
    "test_vehicle.reset_index(drop=True, inplace=True)\n",
    "start = 300\n",
    "window = 100\n",
    "\n",
    "#plt.plot(test_vehicle[start:start+window].timestamp, test_vehicle[start:start+window].dist_travelled, 'ro')\n",
    "plt.plot(test_vehicle.v_lon, test_vehicle.v_lat, 'ro')\n",
    "\n",
    "plt.show()"
   ]
  },
  {
   "cell_type": "code",
   "execution_count": 25,
   "metadata": {
    "collapsed": false,
    "scrolled": true
   },
   "outputs": [
    {
     "data": {
      "image/png": "[encoded data removed]",
      "text/plain": [
       "<matplotlib.figure.Figure at 0x116f45150>"
      ]
     },
     "metadata": {},
     "output_type": "display_data"
    }
   ],
   "source": [
    "started = False\n",
    "\n",
    "for i in range(0, len(test_vehicle.index)-2):\n",
    "    \n",
    "    if test_vehicle.iloc[i].dist_travelled < 1.0:\n",
    "        started = True\n",
    "    \n",
    "    if not started:\n",
    "        test_vehicle.loc[i, \"dist_travelled\"] = 0.0\n",
    "        continue\n",
    "    \n",
    "    if test_vehicle.iloc[i+1].dist_travelled == 0.0:\n",
    "        test_vehicle.loc[i, \"dist_travelled\"] = 0.0\n",
    "    if (test_vehicle.iloc[i+1].dist_travelled < test_vehicle.iloc[i].dist_travelled):\n",
    "        test_vehicle.loc[i+1, \"dist_travelled\"] = 0.5 * (test_vehicle.iloc[i+2].dist_travelled + test_vehicle.iloc[i].dist_travelled)\n",
    "        \n",
    "plt.plot(test_vehicle.timestamp, test_vehicle.dist_travelled, 'ro')\n",
    "plt.show()"
   ]
  },
  {
   "cell_type": "code",
   "execution_count": 5,
   "metadata": {
    "collapsed": false
   },
   "outputs": [],
   "source": [
    "#test_vehicle.trip_id.astype(\"category\").describe()\n",
    "#test_vehicle.iloc[245:245+37].dist_travelled"
   ]
  },
  {
   "cell_type": "code",
   "execution_count": 11,
   "metadata": {
    "collapsed": false
   },
   "outputs": [
    {
     "data": {
      "image/png": "[encoded data removed]",
      "text/plain": [
       "<matplotlib.figure.Figure at 0x1191e1a50>"
      ]
     },
     "metadata": {},
     "output_type": "display_data"
    }
   ],
   "source": [
    "def getVel(entity1, entity2):\n",
    "    return (entity1.dist_travelled - entity2.dist_travelled) / (entity1.timestamp - entity2.timestamp)\n",
    "\n",
    "test_vehicle.loc[0, \"velocity\"] = getVel(test_vehicle.iloc[1], test_vehicle.iloc[0])\n",
    "test_vehicle.loc[len(test_vehicle.index)-1, \"velocity\"] = getVel(test_vehicle.iloc[len(test_vehicle.index)-1], test_vehicle.iloc[len(test_vehicle.index)-2])\n",
    "\n",
    "for i in range(1, len(test_vehicle.index)-1):\n",
    "    \n",
    "    back = getVel(test_vehicle.iloc[i], test_vehicle.iloc[i-1])\n",
    "    \n",
    "    front = getVel(test_vehicle.iloc[i+1], test_vehicle.iloc[i])\n",
    "    \n",
    "    vel = 0.5 * (back + front)\n",
    "    test_vehicle.loc[i, \"velocity\"] = vel\n",
    "    \n",
    "plt.plot(test_vehicle.timestamp, test_vehicle.velocity, 'ro')\n",
    "plt.show()"
   ]
  },
  {
   "cell_type": "markdown",
   "metadata": {},
   "source": [
    "Drop heads and tails\n",
    "Check places.txt"
   ]
  },
  {
   "cell_type": "code",
   "execution_count": 10,
   "metadata": {
    "collapsed": false
   },
   "outputs": [],
   "source": [
    "places = pd.read_csv(\"~/Desktop/SDMTS/Static_Info/places.txt\")\n",
    "shapes = pd.read_csv(\"~/Desktop/SDMTS/Static_Info/shapes.txt\")\n",
    "center_lat = places.place_lat.median(axis=0)\n",
    "center_lon = places.place_long.median(axis=0)\n",
    "zoom = 12\n",
    "#gmap = gmplot.GoogleMapPlotter(center_lat, center_lon, zoom)\n",
    "#gmap.scatter(df.latitude, df.longitude, \"#0066ff\", size=100, marker=False)\n",
    "#gmap.scatter(places.place_lat, places.place_long, \"#f45342\", size=100, marker=False)\n",
    "#gmap.draw(\"mymap.html\")"
   ]
  },
  {
   "cell_type": "code",
   "execution_count": 12,
   "metadata": {
    "collapsed": false
   },
   "outputs": [
    {
     "data": {
      "text/plain": [
       "157380"
      ]
     },
     "execution_count": 12,
     "metadata": {},
     "output_type": "execute_result"
    }
   ],
   "source": [
    "len(shapes.index)"
   ]
  },
  {
   "cell_type": "code",
   "execution_count": null,
   "metadata": {
    "collapsed": true
   },
   "outputs": [],
   "source": []
  }
 ],
 "metadata": {
  "kernelspec": {
   "display_name": "Python 2",
   "language": "python",
   "name": "python2"
  },
  "language_info": {
   "codemirror_mode": {
    "name": "ipython",
    "version": 2
   },
   "file_extension": ".py",
   "mimetype": "text/x-python",
   "name": "python",
   "nbconvert_exporter": "python",
   "pygments_lexer": "ipython2",
   "version": "2.7.13"
  }
 },
 "nbformat": 4,
 "nbformat_minor": 2
}
