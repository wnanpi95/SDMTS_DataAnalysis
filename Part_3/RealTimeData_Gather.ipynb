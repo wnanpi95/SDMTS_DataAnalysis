{
 "cells": [
  {
   "cell_type": "markdown",
   "metadata": {},
   "source": [
    "# Set up\n",
    "We will first being by importing a couple of necessary modules, as well as append a new path to import modules so\n",
    "we can import the gtfs_realtime_pb2 module, which allows the data to be parsed properly"
   ]
  },
  {
   "cell_type": "code",
   "execution_count": 1,
   "metadata": {
    "collapsed": true
   },
   "outputs": [],
   "source": [
    "path = \"./..\""
   ]
  },
  {
   "cell_type": "code",
   "execution_count": 2,
   "metadata": {
    "collapsed": false
   },
   "outputs": [],
   "source": [
    "import os\n",
    "import sys\n",
    "sys.path.append(path)\n",
    "import gtfs_realtime_pb2\n",
    "import urllib"
   ]
  },
  {
   "cell_type": "markdown",
   "metadata": {},
   "source": [
    "# Download file and parse\n",
    "You can skip this next block if you don't have an api key. Here we are simply\n",
    "downloading the file from the url."
   ]
  },
  {
   "cell_type": "code",
   "execution_count": 3,
   "metadata": {
    "collapsed": false
   },
   "outputs": [
    {
     "data": {
      "text/plain": [
       "('real_time_data.pb', <httplib.HTTPMessage instance at 0x10395c0e0>)"
      ]
     },
     "execution_count": 3,
     "metadata": {},
     "output_type": "execute_result"
    }
   ],
   "source": [
    "############FOR THIS BLOCK TO WORK, YOU NEED AN API KEY!!! ###########################\n",
    "####### This block is ok to skip, I've already included a sample data file!###########\n",
    "url = \"https://realtime.sdmts.com/api/api/gtfs_realtime/vehicle-positions-for-agency/MTS.pb?key=\"\n",
    "key = ####### PUT YOUR KEY IN HERE ####################\n",
    "urllib.urlretrieve(url+key, filename=\"real_time_data.pb\")"
   ]
  },
  {
   "cell_type": "markdown",
   "metadata": {},
   "source": [
    "Now we begin to parse the file. In my script I wrote a class the handle the feed, but in this notebook I will break down some of the key steps. However, the whole process is quite simple. "
   ]
  },
  {
   "cell_type": "code",
   "execution_count": 4,
   "metadata": {
    "collapsed": false
   },
   "outputs": [],
   "source": [
    "vehicle_position_feed = gtfs_realtime_pb2.FeedMessage()\n",
    "d = open(\"real_time_data.pb\", 'rb')\n",
    "vehicle_position_feed.ParseFromString(d.read())\n",
    "d.close()"
   ]
  },
  {
   "cell_type": "markdown",
   "metadata": {},
   "source": [
    "Next, we extract specifically the data we are interested in. Specifically:\n",
    "* route\n",
    "* trip_id\n",
    "* timestamp\n",
    "* latitude\n",
    "* longitude\n",
    "* vehicle_id\n",
    "\n",
    "and we will write it all to a .csv file"
   ]
  },
  {
   "cell_type": "code",
   "execution_count": 5,
   "metadata": {
    "collapsed": false
   },
   "outputs": [],
   "source": [
    "with open(\"real_time_data_parsed.csv\", 'a') as f:\n",
    "    header = \"route,trip_id,timestamp,latitude,longitude,vehicle_id\\n\"\n",
    "    f.write(header)\n",
    "    for entity in vehicle_position_feed.entity:\n",
    "        if entity.vehicle.trip.route_id != \"\":\n",
    "            f.seek(0,2)\n",
    "            \n",
    "            timestamp = str(entity.vehicle.timestamp)\n",
    "            trip_id = entity.vehicle.trip.trip_id\n",
    "            latitude = str(entity.vehicle.position.latitude)\n",
    "            longitude = str(entity.vehicle.position.longitude)\n",
    "            vehicle_id = entity.vehicle.vehicle.id\n",
    "            route = entity.vehicle.trip.route_id\n",
    "            \n",
    "            info_string = route+\",\"+trip_id+\",\"+timestamp+\",\"+latitude+\",\"+longitude+\",\"+vehicle_id+\"\\n\"\n",
    "            \n",
    "            f.write(info_string)\n"
   ]
  },
  {
   "cell_type": "markdown",
   "metadata": {},
   "source": [
    "We now have a sample of the real time data!"
   ]
  }
 ],
 "metadata": {
  "kernelspec": {
   "display_name": "Python 2",
   "language": "python",
   "name": "python2"
  },
  "language_info": {
   "codemirror_mode": {
    "name": "ipython",
    "version": 2
   },
   "file_extension": ".py",
   "mimetype": "text/x-python",
   "name": "python",
   "nbconvert_exporter": "python",
   "pygments_lexer": "ipython2",
   "version": "2.7.13"
  }
 },
 "nbformat": 4,
 "nbformat_minor": 2
}
