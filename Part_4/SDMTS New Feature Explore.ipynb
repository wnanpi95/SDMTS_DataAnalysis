{
 "cells": [
  {
   "cell_type": "code",
   "execution_count": 1,
   "metadata": {
    "collapsed": true
   },
   "outputs": [],
   "source": [
    "import pandas as pd\n",
    "import numpy as np\n",
    "import seaborn as sns\n",
    "import matplotlib.pyplot as plt\n",
    "import gmplot\n",
    "from IPython.core.display import display, HTML\n",
    "%matplotlib inline"
   ]
  },
  {
   "cell_type": "code",
   "execution_count": 2,
   "metadata": {
    "collapsed": false
   },
   "outputs": [],
   "source": [
    "df_raw = pd.read_csv(\"./2017-07-05-appended.csv\")"
   ]
  },
  {
   "cell_type": "code",
   "execution_count": 3,
   "metadata": {
    "collapsed": false
   },
   "outputs": [
    {
     "data": {
      "text/html": [
       "<div>\n",
       "<table border=\"1\" class=\"dataframe\">\n",
       "  <thead>\n",
       "    <tr style=\"text-align: right;\">\n",
       "      <th></th>\n",
       "      <th>route</th>\n",
       "      <th>trip_id</th>\n",
       "      <th>timestamp</th>\n",
       "      <th>latitude</th>\n",
       "      <th>longitude</th>\n",
       "      <th>vehicle_id</th>\n",
       "      <th>dist_travelled</th>\n",
       "      <th>velocity</th>\n",
       "    </tr>\n",
       "  </thead>\n",
       "  <tbody>\n",
       "    <tr>\n",
       "      <th>0</th>\n",
       "      <td>929</td>\n",
       "      <td>12203901</td>\n",
       "      <td>1499237960</td>\n",
       "      <td>32.6614</td>\n",
       "      <td>-117.092</td>\n",
       "      <td>2815</td>\n",
       "      <td>8.085142</td>\n",
       "      <td>0.008159</td>\n",
       "    </tr>\n",
       "    <tr>\n",
       "      <th>1</th>\n",
       "      <td>901</td>\n",
       "      <td>12204443</td>\n",
       "      <td>1499237923</td>\n",
       "      <td>32.6464</td>\n",
       "      <td>-117.147</td>\n",
       "      <td>2870</td>\n",
       "      <td>8.654000</td>\n",
       "      <td>0.012238</td>\n",
       "    </tr>\n",
       "    <tr>\n",
       "      <th>2</th>\n",
       "      <td>215</td>\n",
       "      <td>12346003</td>\n",
       "      <td>1499237948</td>\n",
       "      <td>32.7196</td>\n",
       "      <td>-117.166</td>\n",
       "      <td>1207</td>\n",
       "      <td>0.000000</td>\n",
       "      <td>0.000000</td>\n",
       "    </tr>\n",
       "    <tr>\n",
       "      <th>3</th>\n",
       "      <td>215</td>\n",
       "      <td>12346002</td>\n",
       "      <td>1499237963</td>\n",
       "      <td>32.7539</td>\n",
       "      <td>-117.146</td>\n",
       "      <td>1217</td>\n",
       "      <td>4.212287</td>\n",
       "      <td>0.004174</td>\n",
       "    </tr>\n",
       "    <tr>\n",
       "      <th>4</th>\n",
       "      <td>215</td>\n",
       "      <td>12346071</td>\n",
       "      <td>1499237917</td>\n",
       "      <td>32.7568</td>\n",
       "      <td>-117.087</td>\n",
       "      <td>1215</td>\n",
       "      <td>2.158292</td>\n",
       "      <td>0.001741</td>\n",
       "    </tr>\n",
       "  </tbody>\n",
       "</table>\n",
       "</div>"
      ],
      "text/plain": [
       "   route   trip_id   timestamp  latitude  longitude  vehicle_id  \\\n",
       "0    929  12203901  1499237960   32.6614   -117.092        2815   \n",
       "1    901  12204443  1499237923   32.6464   -117.147        2870   \n",
       "2    215  12346003  1499237948   32.7196   -117.166        1207   \n",
       "3    215  12346002  1499237963   32.7539   -117.146        1217   \n",
       "4    215  12346071  1499237917   32.7568   -117.087        1215   \n",
       "\n",
       "   dist_travelled  velocity  \n",
       "0        8.085142  0.008159  \n",
       "1        8.654000  0.012238  \n",
       "2        0.000000  0.000000  \n",
       "3        4.212287  0.004174  \n",
       "4        2.158292  0.001741  "
      ]
     },
     "execution_count": 3,
     "metadata": {},
     "output_type": "execute_result"
    }
   ],
   "source": [
    "df_raw.head()"
   ]
  },
  {
   "cell_type": "markdown",
   "metadata": {},
   "source": [
    "Let's start dropping that rows with NaNs and see what how many are left"
   ]
  },
  {
   "cell_type": "code",
   "execution_count": 4,
   "metadata": {
    "collapsed": false
   },
   "outputs": [
    {
     "name": "stdout",
     "output_type": "stream",
     "text": [
      "216808\n",
      "205390\n",
      "205280\n"
     ]
    }
   ],
   "source": [
    "print(len(df_raw.index))\n",
    "\n",
    "df_non_null_1 = df_raw[df_raw.dist_travelled.notnull()]\n",
    "print(len(df_non_null_1.index))\n",
    "\n",
    "df_non_null_2 = df_non_null_1[df_non_null_1.velocity.notnull()]\n",
    "print(len(df_non_null_2.index))\n"
   ]
  },
  {
   "cell_type": "markdown",
   "metadata": {},
   "source": [
    "Looks like we dropped about 1,500 entries. The primary reasons entries get dropped are:\n",
    "* The bus recorded it's position while it was not driving a route\n",
    "* The fragment of the ride captured by this file was too small to properly calculate a velocity"
   ]
  },
  {
   "cell_type": "code",
   "execution_count": 5,
   "metadata": {
    "collapsed": true
   },
   "outputs": [],
   "source": [
    "df = df_non_null_2"
   ]
  },
  {
   "cell_type": "code",
   "execution_count": 6,
   "metadata": {
    "collapsed": true
   },
   "outputs": [],
   "source": [
    "sample_trip = 12341775\n",
    "sample_vehicle = df[df.trip_id == sample_trip]"
   ]
  },
  {
   "cell_type": "code",
   "execution_count": 7,
   "metadata": {
    "collapsed": false
   },
   "outputs": [
    {
     "data": {
      "text/html": [
       "<div>\n",
       "<table border=\"1\" class=\"dataframe\">\n",
       "  <thead>\n",
       "    <tr style=\"text-align: right;\">\n",
       "      <th></th>\n",
       "      <th>route</th>\n",
       "      <th>trip_id</th>\n",
       "      <th>timestamp</th>\n",
       "      <th>latitude</th>\n",
       "      <th>longitude</th>\n",
       "      <th>vehicle_id</th>\n",
       "      <th>dist_travelled</th>\n",
       "      <th>velocity</th>\n",
       "    </tr>\n",
       "  </thead>\n",
       "  <tbody>\n",
       "    <tr>\n",
       "      <th>7615</th>\n",
       "      <td>202</td>\n",
       "      <td>12341775</td>\n",
       "      <td>1499258713</td>\n",
       "      <td>32.8704</td>\n",
       "      <td>-117.214</td>\n",
       "      <td>1104</td>\n",
       "      <td>5.993771</td>\n",
       "      <td>-0.040856</td>\n",
       "    </tr>\n",
       "    <tr>\n",
       "      <th>7791</th>\n",
       "      <td>202</td>\n",
       "      <td>12341775</td>\n",
       "      <td>1499258840</td>\n",
       "      <td>32.8675</td>\n",
       "      <td>-117.219</td>\n",
       "      <td>1104</td>\n",
       "      <td>0.805121</td>\n",
       "      <td>-0.035018</td>\n",
       "    </tr>\n",
       "    <tr>\n",
       "      <th>7978</th>\n",
       "      <td>202</td>\n",
       "      <td>12341775</td>\n",
       "      <td>1499258894</td>\n",
       "      <td>32.8659</td>\n",
       "      <td>-117.221</td>\n",
       "      <td>1104</td>\n",
       "      <td>0.712238</td>\n",
       "      <td>0.000516</td>\n",
       "    </tr>\n",
       "    <tr>\n",
       "      <th>8158</th>\n",
       "      <td>202</td>\n",
       "      <td>12341775</td>\n",
       "      <td>1499258934</td>\n",
       "      <td>32.8615</td>\n",
       "      <td>-117.223</td>\n",
       "      <td>1104</td>\n",
       "      <td>1.063771</td>\n",
       "      <td>0.005917</td>\n",
       "    </tr>\n",
       "    <tr>\n",
       "      <th>8458</th>\n",
       "      <td>202</td>\n",
       "      <td>12341775</td>\n",
       "      <td>1499259007</td>\n",
       "      <td>32.8614</td>\n",
       "      <td>-117.223</td>\n",
       "      <td>1104</td>\n",
       "      <td>1.056290</td>\n",
       "      <td>0.001154</td>\n",
       "    </tr>\n",
       "  </tbody>\n",
       "</table>\n",
       "</div>"
      ],
      "text/plain": [
       "      route   trip_id   timestamp  latitude  longitude  vehicle_id  \\\n",
       "7615    202  12341775  1499258713   32.8704   -117.214        1104   \n",
       "7791    202  12341775  1499258840   32.8675   -117.219        1104   \n",
       "7978    202  12341775  1499258894   32.8659   -117.221        1104   \n",
       "8158    202  12341775  1499258934   32.8615   -117.223        1104   \n",
       "8458    202  12341775  1499259007   32.8614   -117.223        1104   \n",
       "\n",
       "      dist_travelled  velocity  \n",
       "7615        5.993771 -0.040856  \n",
       "7791        0.805121 -0.035018  \n",
       "7978        0.712238  0.000516  \n",
       "8158        1.063771  0.005917  \n",
       "8458        1.056290  0.001154  "
      ]
     },
     "execution_count": 7,
     "metadata": {},
     "output_type": "execute_result"
    }
   ],
   "source": [
    "sample_vehicle.head()"
   ]
  },
  {
   "cell_type": "code",
   "execution_count": 8,
   "metadata": {
    "collapsed": true
   },
   "outputs": [],
   "source": [
    "sample_vehicle = sample_vehicle.sort_values(by=\"timestamp\", )\n",
    "sample_vehicle.reset_index(drop=True, inplace=True)"
   ]
  },
  {
   "cell_type": "code",
   "execution_count": 51,
   "metadata": {
    "collapsed": false
   },
   "outputs": [
    {
     "data": {
      "text/plain": [
       "[<matplotlib.lines.Line2D at 0x11a238690>]"
      ]
     },
     "execution_count": 51,
     "metadata": {},
     "output_type": "execute_result"
    },
    {
     "data": {
      "image/png": "[encoded data removed]",
      "text/plain": [
       "<matplotlib.figure.Figure at 0x119f34190>"
      ]
     },
     "metadata": {},
     "output_type": "display_data"
    }
   ],
   "source": [
    "plt.plot(sample_vehicle.timestamp, sample_vehicle.dist_travelled, 'ro')"
   ]
  },
  {
   "cell_type": "markdown",
   "metadata": {},
   "source": [
    "Uh oh what's going on here? Looks like there was a problem with getting the distance traveled. This next plot will \n",
    "illuminate the cause..."
   ]
  },
  {
   "cell_type": "code",
   "execution_count": 10,
   "metadata": {
    "collapsed": true
   },
   "outputs": [],
   "source": [
    "trips = pd.read_csv(\"../google_transit/trips.txt\")\n",
    "shapes = pd.read_csv(\"../google_transit/shapes.txt\")"
   ]
  },
  {
   "cell_type": "code",
   "execution_count": 33,
   "metadata": {
    "collapsed": false
   },
   "outputs": [],
   "source": [
    "sample_shape_id = trips[trips.trip_id == sample_trip].shape_id.values[0]\n",
    "sample_shape = shapes[shapes.shape_id == sample_shape_id]"
   ]
  },
  {
   "cell_type": "code",
   "execution_count": 47,
   "metadata": {
    "collapsed": false
   },
   "outputs": [
    {
     "data": {
      "text/plain": [
       "<matplotlib.legend.Legend at 0x11a5a0e90>"
      ]
     },
     "execution_count": 47,
     "metadata": {},
     "output_type": "execute_result"
    },
    {
     "data": {
      "image/png": "[encoded data removed]",
      "text/plain": [
       "<matplotlib.figure.Figure at 0x11a42fa50>"
      ]
     },
     "metadata": {},
     "output_type": "display_data"
    }
   ],
   "source": [
    "route = plt.plot(sample_shape.shape_pt_lon, sample_shape.shape_pt_lat, 'k-', label = \"route\")\n",
    "recordings = plt.plot(sample_vehicle.longitude, sample_vehicle.latitude, 'ro', label = \"recorded positions\")\n",
    "plt.legend(bbox_to_anchor=(1, 1),\n",
    "           bbox_transform=plt.gcf().transFigure)"
   ]
  },
  {
   "cell_type": "markdown",
   "metadata": {},
   "source": [
    "Because it is a circular route, it seems to have mapped that recording to the end of the route!"
   ]
  },
  {
   "cell_type": "code",
   "execution_count": 49,
   "metadata": {
    "collapsed": false
   },
   "outputs": [
    {
     "data": {
      "text/plain": [
       "[<matplotlib.lines.Line2D at 0x11a1c2ed0>]"
      ]
     },
     "execution_count": 49,
     "metadata": {},
     "output_type": "execute_result"
    },
    {
     "data": {
      "image/png": "[encoded data removed]",
      "text/plain": [
       "<matplotlib.figure.Figure at 0x11a3bcdd0>"
      ]
     },
     "metadata": {},
     "output_type": "display_data"
    }
   ],
   "source": [
    "plt.plot(sample_vehicle.timestamp, sample_vehicle.velocity)"
   ]
  },
  {
   "cell_type": "code",
   "execution_count": 50,
   "metadata": {
    "collapsed": false
   },
   "outputs": [
    {
     "data": {
      "text/plain": [
       "0    -0.040856\n",
       "1    -0.035018\n",
       "2     0.000516\n",
       "3     0.005917\n",
       "4     0.001154\n",
       "5     0.004479\n",
       "6     0.003744\n",
       "7     0.003895\n",
       "8     0.000302\n",
       "9     0.004462\n",
       "10    0.002662\n",
       "11    0.005582\n",
       "12    0.002911\n",
       "13    0.004759\n",
       "14    0.006451\n",
       "15    0.003538\n",
       "16    0.001840\n",
       "Name: velocity, dtype: float64"
      ]
     },
     "execution_count": 50,
     "metadata": {},
     "output_type": "execute_result"
    }
   ],
   "source": [
    "sample_vehicle.velocity"
   ]
  },
  {
   "cell_type": "code",
   "execution_count": null,
   "metadata": {
    "collapsed": true
   },
   "outputs": [],
   "source": []
  }
 ],
 "metadata": {
  "kernelspec": {
   "display_name": "Python 2",
   "language": "python",
   "name": "python2"
  },
  "language_info": {
   "codemirror_mode": {
    "name": "ipython",
    "version": 2
   },
   "file_extension": ".py",
   "mimetype": "text/x-python",
   "name": "python",
   "nbconvert_exporter": "python",
   "pygments_lexer": "ipython2",
   "version": "2.7.13"
  }
 },
 "nbformat": 4,
 "nbformat_minor": 2
}
